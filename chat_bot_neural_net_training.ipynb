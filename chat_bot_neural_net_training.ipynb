{
 "cells": [
  {
   "cell_type": "code",
   "execution_count": 12,
   "id": "e82588a0",
   "metadata": {},
   "outputs": [],
   "source": [
    "import nltk\n",
    "from nltk.stem.snowball import SnowballStemmer \n",
    "\n",
    "import numpy as np\n",
    "import tflearn\n",
    "import tensorflow as tf\n",
    "import random\n",
    "import json\n",
    "import pickle\n",
    "\n",
    "stemmer = SnowballStemmer(language='russian')\n",
    "with open('data/intents.json', encoding=\"utf8\") as f:\n",
    "\n",
    "    data = json.load(f)"
   ]
  },
  {
   "cell_type": "markdown",
   "id": "8953f290",
   "metadata": {},
   "source": [
    "# Initialize lists"
   ]
  },
  {
   "cell_type": "code",
   "execution_count": 13,
   "id": "59a04128",
   "metadata": {},
   "outputs": [
    {
     "name": "stdout",
     "output_type": "stream",
     "text": [
      "initalized from json\n"
     ]
    }
   ],
   "source": [
    "try:\n",
    "    with open('data/data.pickle', \"rb\") as f:\n",
    "        words, labels, training, output = pickle.load(f)\n",
    "    print(\"initalized from pickle\")\n",
    "except:\n",
    "    print(\"initalized from json\")\n",
    "    \n",
    "    words  = []\n",
    "    labels = []\n",
    "    docs_x = []\n",
    "    docs_y = []\n",
    "\n",
    "    removed_symbols = [\"?\", \"!\"]\n",
    "\n",
    "    for intent in data[\"intents\"]:\n",
    "\n",
    "        for pattern in intent['patterns']:\n",
    "\n",
    "            wrds = nltk.word_tokenize(pattern)\n",
    "            words.extend(wrds)\n",
    "            docs_x.append(pattern)\n",
    "            docs_y.append(intent['tag'])\n",
    "\n",
    "        if intent['tag'] not in labels:\n",
    "            labels.append(intent['tag'])\n",
    "\n",
    "    words = [stemmer.stem(w.lower()) for w in words if w not in removed_symbols]\n",
    "    words = sorted(list(set(words)))\n",
    "\n",
    "    labels = sorted(labels)\n",
    "    \n",
    "    # creating bag of words\n",
    "    training = []\n",
    "    output = []\n",
    "    out_empty = [0 for _ in range(len(labels))]\n",
    "\n",
    "    for x, doc in enumerate(docs_x):\n",
    "\n",
    "        bag = []\n",
    "\n",
    "        wrds = [stemmer.stem(w) for w in doc.split()]\n",
    "\n",
    "        for w in words:\n",
    "            if w in wrds:\n",
    "                bag.append(1)\n",
    "            else:\n",
    "                bag.append(0)\n",
    "\n",
    "        output_row = out_empty[:]\n",
    "        output_row[labels.index(docs_y[x])] = 1\n",
    "\n",
    "        training.append(bag)\n",
    "        output.append(output_row)\n",
    "\n",
    "    training = np.array(training)\n",
    "    output   = np.array(output)\n",
    "\n",
    "with open('data/data.pickle', \"wb\") as f:\n",
    "    pickle.dump((words, labels, training, output), f)"
   ]
  },
  {
   "cell_type": "code",
   "execution_count": 14,
   "id": "7e0185c1",
   "metadata": {},
   "outputs": [
    {
     "data": {
      "text/plain": [
       "(37, 7)"
      ]
     },
     "execution_count": 14,
     "metadata": {},
     "output_type": "execute_result"
    }
   ],
   "source": [
    "output.shape"
   ]
  },
  {
   "cell_type": "code",
   "execution_count": 15,
   "id": "c015c343",
   "metadata": {},
   "outputs": [
    {
     "data": {
      "text/plain": [
       "(67, 7, (37, 67), (37, 7))"
      ]
     },
     "execution_count": 15,
     "metadata": {},
     "output_type": "execute_result"
    }
   ],
   "source": [
    "len(words), len(labels), training.shape, output.shape"
   ]
  },
  {
   "cell_type": "markdown",
   "id": "c1c05144",
   "metadata": {},
   "source": [
    "# Train a NN model"
   ]
  },
  {
   "cell_type": "code",
   "execution_count": 17,
   "id": "a6074e2c",
   "metadata": {},
   "outputs": [
    {
     "name": "stdout",
     "output_type": "stream",
     "text": [
      "Training Step: 4999  | total loss: \u001b[1m\u001b[32m0.02017\u001b[0m\u001b[0m | time: 0.012s\n",
      "| Adam | epoch: 1000 | loss: 0.02017 - acc: 1.0000 -- iter: 32/37\n",
      "Training Step: 5000  | total loss: \u001b[1m\u001b[32m0.02011\u001b[0m\u001b[0m | time: 0.014s\n",
      "| Adam | epoch: 1000 | loss: 0.02011 - acc: 1.0000 -- iter: 37/37\n",
      "--\n",
      "INFO:tensorflow:D:\\ONLINE COURSES\\Python\\NLP\\Python Chat Bot Managing New Student Applications\\model.tflearn\\model.tflearn is not in all_model_checkpoint_paths. Manually adding it.\n"
     ]
    }
   ],
   "source": [
    "\n",
    "try:\n",
    "    tf.compat.v1.reset_default_graph()\n",
    "    net = tflearn.input_data(shape=[None, len(training[0])])\n",
    "    net = tflearn.fully_connected(net, 8)\n",
    "    net = tflearn.fully_connected(net, 8)\n",
    "    net = tflearn.fully_connected(net, len(output[0]), activation=\"softmax\")\n",
    "    net = tflearn.regression(net)\n",
    "    model = tflearn.DNN(net)\n",
    "    model.load(\"model.tflearn/model.tflearn\")\n",
    "except Exception as e:\n",
    "    \n",
    "    print(f\"exception: {e}\")\n",
    "    \n",
    "    tf.compat.v1.reset_default_graph()\n",
    "\n",
    "    net = tflearn.input_data(shape=[None, len(training[0])])\n",
    "    net = tflearn.fully_connected(net, 8)\n",
    "    net = tflearn.fully_connected(net, 8)\n",
    "    net = tflearn.fully_connected(net, len(output[0]), activation=\"softmax\")\n",
    "    net = tflearn.regression(net)\n",
    "\n",
    "    model = tflearn.DNN(net)\n",
    "    model.fit(training, output, n_epoch=1000, batch_size=8, show_metric=True)\n",
    "    \n",
    "    model.save(\"model.tflearn/model.tflearn\")"
   ]
  },
  {
   "cell_type": "code",
   "execution_count": 6,
   "id": "e8c00a78",
   "metadata": {},
   "outputs": [
    {
     "data": {
      "text/plain": [
       "(35, 66)"
      ]
     },
     "execution_count": 6,
     "metadata": {},
     "output_type": "execute_result"
    }
   ],
   "source": [
    "training.shape"
   ]
  },
  {
   "cell_type": "code",
   "execution_count": 7,
   "id": "36d9caaf",
   "metadata": {},
   "outputs": [
    {
     "data": {
      "text/plain": [
       "(35, 7)"
      ]
     },
     "execution_count": 7,
     "metadata": {},
     "output_type": "execute_result"
    }
   ],
   "source": [
    "output.shape"
   ]
  },
  {
   "cell_type": "code",
   "execution_count": 18,
   "id": "75eaa852",
   "metadata": {},
   "outputs": [],
   "source": [
    "def bag_of_words(s, words):\n",
    "\n",
    "    bag = [0 for _ in range(len(words))]\n",
    "\n",
    "    s_words = nltk.word_tokenize(s)\n",
    "    s_words = [stemmer.stem(word.lower()) for word in s_words]\n",
    "\n",
    "    for se in s_words:\n",
    "        for i, w in enumerate(words):\n",
    "            if w == se:\n",
    "                bag[i] = 1\n",
    "\n",
    "    return np.array(bag)"
   ]
  },
  {
   "cell_type": "code",
   "execution_count": 19,
   "id": "64065dd8",
   "metadata": {},
   "outputs": [
    {
     "data": {
      "text/plain": [
       "array(['приветств'], dtype='<U12')"
      ]
     },
     "execution_count": 19,
     "metadata": {},
     "output_type": "execute_result"
    }
   ],
   "source": [
    "arr = bag_of_words('Приветствую', words)\n",
    "np.array(words)[arr==1]"
   ]
  },
  {
   "cell_type": "code",
   "execution_count": 20,
   "id": "e3f0b792",
   "metadata": {},
   "outputs": [
    {
     "data": {
      "text/plain": [
       "'приветствие'"
      ]
     },
     "execution_count": 20,
     "metadata": {},
     "output_type": "execute_result"
    }
   ],
   "source": [
    "word = 'привет'\n",
    "probabilities = model.predict([bag_of_words(word, words)])[0]\n",
    "ind = np.argmax(probabilities)\n",
    "tag_probability = probabilities[ind]\n",
    "tag = labels[ind]\n",
    "tag"
   ]
  },
  {
   "cell_type": "code",
   "execution_count": 12,
   "id": "0b9f0f45",
   "metadata": {},
   "outputs": [
    {
     "data": {
      "text/plain": [
       "(66,)"
      ]
     },
     "execution_count": 12,
     "metadata": {},
     "output_type": "execute_result"
    }
   ],
   "source": [
    "probabilities.shape"
   ]
  },
  {
   "cell_type": "code",
   "execution_count": null,
   "id": "ec727cc2",
   "metadata": {},
   "outputs": [],
   "source": []
  },
  {
   "cell_type": "code",
   "execution_count": null,
   "id": "70e1d115",
   "metadata": {},
   "outputs": [],
   "source": []
  },
  {
   "cell_type": "code",
   "execution_count": null,
   "id": "1d4cd924",
   "metadata": {},
   "outputs": [],
   "source": []
  },
  {
   "cell_type": "code",
   "execution_count": null,
   "id": "04f63964",
   "metadata": {},
   "outputs": [],
   "source": []
  },
  {
   "cell_type": "code",
   "execution_count": null,
   "id": "fa2353dd",
   "metadata": {},
   "outputs": [],
   "source": []
  },
  {
   "cell_type": "code",
   "execution_count": null,
   "id": "3352bd43",
   "metadata": {},
   "outputs": [],
   "source": []
  },
  {
   "cell_type": "code",
   "execution_count": null,
   "id": "614a1b6a",
   "metadata": {},
   "outputs": [],
   "source": []
  },
  {
   "cell_type": "code",
   "execution_count": 28,
   "id": "ec82ffe1",
   "metadata": {},
   "outputs": [
    {
     "name": "stdout",
     "output_type": "stream",
     "text": [
      "I am ready for chat\n"
     ]
    }
   ],
   "source": [
    "from Schedule import Schedule\n",
    "from UserProfile import UserProfile\n",
    "\n",
    "def ask_user_for_additional_info(user_profile):\n",
    "    \n",
    "    # ask user for additional info: first name, last name etc.\n",
    "\n",
    "    printed_header = False\n",
    "    for att_name, att_type in user_profile.get_attribute_names(exclude_schedule=True):\n",
    "        val = user_profile._get_attribute_value(att_name)\n",
    "\n",
    "        # if attribute value is not filled in\n",
    "        if not val:\n",
    "\n",
    "            if not printed_header:\n",
    "                printed_header = True\n",
    "                print('Пожалуйста введите дополнительную информацию(для отказа напишите 0):')\n",
    "\n",
    "            att_name_hf = user_profile.get_attribute_name_hf(att_name)\n",
    "\n",
    "            if att_type == int:\n",
    "                while True:\n",
    "                    val = input(f\"{att_name_hf}: \")\n",
    "\n",
    "                    if val.strip() == '0':\n",
    "                        break\n",
    "\n",
    "                    try:\n",
    "                        int(val)\n",
    "                        break\n",
    "                    except:\n",
    "                        print('Пожалуйста введите число.')\n",
    "\n",
    "            else:\n",
    "                val = input(f\"{att_name_hf}: \")\n",
    "\n",
    "            if val.strip() == '0':\n",
    "                \n",
    "                continue\n",
    "\n",
    "            user_profile.update(_att_name=att_name, _att_value=val)\n",
    "\n",
    "def choose_date(code, user_profile):\n",
    "\n",
    "    schedule = Schedule()\n",
    "    schedule.print()\n",
    "    success = False\n",
    "    while True:\n",
    "\n",
    "        numbers = input(\"Выберите часы в которые вы хотите заниматься(укажите номера через запятую, для выхода наберите 0): \")\n",
    "        \n",
    "        if numbers.strip() == '0':\n",
    "            break\n",
    "\n",
    "        success, schedule_str = schedule.get_schedule(numbers)\n",
    "        if success:\n",
    "            print(f\"Выбрано время : {schedule_str.strip('[').strip(']')}\")\n",
    "            user_profile.update(schedule=schedule_str)\n",
    "            break\n",
    "        else:\n",
    "            print('Попробуйте еще раз.')    \n",
    "    \n",
    "    if success:\n",
    "        ask_user_for_additional_info(user_profile)\n",
    "        user_profile.save()\n",
    "        if user_profile.contact_info_set():\n",
    "            return \"Заявка оформлена. Мы свяжемся с Вами в ближайшее время.\"\n",
    "        else:\n",
    "            return \"Заявка отменена. Отсутствует контактная информация!\"\n",
    "    \n",
    "    return code\n",
    "\n",
    "def custom_response(code, user_profile):\n",
    "    \n",
    "    if code == \"code_schedule_response\":\n",
    "        # show options using buttons\n",
    "        return choose_date(code, user_profile)\n",
    "    \n",
    "    return code\n",
    "\n",
    "def chat(user_id):\n",
    "    \n",
    "    user_profile = UserProfile(user_id)\n",
    "\n",
    "    print(\"Чтобы остановить чат напишите `quit`.\")\n",
    "    \n",
    "    while True:\n",
    "        \n",
    "        inp = input(\"You: \")\n",
    "        if inp.lower() == 'quit':\n",
    "            break\n",
    "            \n",
    "        probabilities = model.predict([bag_of_words(inp, words)])[0]\n",
    "        ind = np.argmax(probabilities)\n",
    "        tag_probability = probabilities[ind]\n",
    "        tag = labels[ind]\n",
    "\n",
    "        if tag_probability > 0.7:\n",
    "            for tg in data['intents']:\n",
    "                if tg['tag'] == tag:\n",
    "                    responses = tg['responses']\n",
    "            response = custom_response(random.choice(responses), user_profile)\n",
    "            \n",
    "            if response:\n",
    "                print(f\"Bot: {response}\")\n",
    "        else:\n",
    "            \n",
    "            print(\"Bot: Я вас не понял. Попробуйте написать по другому.\")\n",
    "\n",
    "print(\"I am ready for chat\")"
   ]
  },
  {
   "cell_type": "code",
   "execution_count": 29,
   "id": "a4f7361b",
   "metadata": {},
   "outputs": [
    {
     "name": "stdout",
     "output_type": "stream",
     "text": [
      "Чтобы остановить чат напишите `quit`.\n",
      "You: привет\n",
      "Bot: Здравствуйте!\n",
      "You: quit\n"
     ]
    }
   ],
   "source": [
    "chat(user_id=3)"
   ]
  },
  {
   "cell_type": "code",
   "execution_count": 9,
   "id": "cc11ba73",
   "metadata": {},
   "outputs": [],
   "source": [
    "from UserProfile import UserProfile"
   ]
  },
  {
   "cell_type": "code",
   "execution_count": 11,
   "id": "bc6f212a",
   "metadata": {},
   "outputs": [
    {
     "data": {
      "text/plain": [
       "'987496873456-0'"
      ]
     },
     "execution_count": 11,
     "metadata": {},
     "output_type": "execute_result"
    }
   ],
   "source": [
    "user_profile = UserProfile(3)\n",
    "user_profile.contact_info_set()\n",
    "user_profile.get_phone()"
   ]
  },
  {
   "cell_type": "markdown",
   "id": "900f560c",
   "metadata": {},
   "source": [
    "# Initialize Timetable"
   ]
  },
  {
   "cell_type": "code",
   "execution_count": 133,
   "id": "0ba28a80",
   "metadata": {},
   "outputs": [
    {
     "name": "stdout",
     "output_type": "stream",
     "text": [
      "+--------+------+------+------+------+------+------+------+\n",
      "| time   | пн   | вт   | ср   | чт   | пт   | сб   | вс   |\n",
      "+========+======+======+======+======+======+======+======+\n",
      "| 09:00  | 1    | 2    |      |      |      |      |      |\n",
      "+--------+------+------+------+------+------+------+------+\n",
      "| 10:00  |      |      |      |      | 3    |      |      |\n",
      "+--------+------+------+------+------+------+------+------+\n",
      "| 11:00  | 4    |      |      |      |      |      |      |\n",
      "+--------+------+------+------+------+------+------+------+\n",
      "| 12:00  | 5    |      |      |      |      | 6    |      |\n",
      "+--------+------+------+------+------+------+------+------+\n",
      "| 13:00  |      | 7    |      |      |      |      |      |\n",
      "+--------+------+------+------+------+------+------+------+\n",
      "| 14:00  |      |      |      |      |      |      |      |\n",
      "+--------+------+------+------+------+------+------+------+\n",
      "| 15:00  |      |      | 8    |      |      |      |      |\n",
      "+--------+------+------+------+------+------+------+------+\n",
      "| 16:00  |      |      |      |      |      |      |      |\n",
      "+--------+------+------+------+------+------+------+------+\n",
      "| 17:00  |      |      |      |      | 9    |      |      |\n",
      "+--------+------+------+------+------+------+------+------+\n",
      "| 18:00  |      |      |      |      |      |      |      |\n",
      "+--------+------+------+------+------+------+------+------+\n",
      "Saved timetable to: data/schedule.csv\n"
     ]
    }
   ],
   "source": [
    "import pandas as pd\n",
    "\n",
    "weekday_names = ['пн', 'вт', 'ср', 'чт', 'пт', 'сб', 'вс']\n",
    "times = ['09:00', '10:00', '11:00', '12:00', '13:00', '14:00', '15:00', '16:00', '17:00', '18:00']\n",
    "df = pd.DataFrame(columns=weekday_names)\n",
    "for time in times:\n",
    "    \n",
    "    df.loc[time] = ''\n",
    "\n",
    "timetable = [\n",
    "    ('09:00','пн'),\n",
    "    ('09:00','вт'),\n",
    "    ('10:00','пт'),\n",
    "    ('11:00','пн'),\n",
    "    ('12:00','пн'),\n",
    "    ('12:00','сб'),\n",
    "    ('13:00','вт'),\n",
    "    ('15:00','ср'),\n",
    "    ('17:00','пт'),\n",
    "]\n",
    "\n",
    "counter = 0\n",
    "for time, weekday in timetable:\n",
    "    counter += 1\n",
    "    df.loc[time, weekday] = counter\n",
    "    \n",
    "df.index.name = 'time'\n",
    "\n",
    "from tabulate import tabulate\n",
    "print(tabulate(df, headers='keys', tablefmt='grid'))\n",
    "\n",
    "timetable_path = 'data/schedule.csv'\n",
    "try:\n",
    "    df.to_csv(timetable_path)\n",
    "    print(f'Saved timetable to: {timetable_path}')\n",
    "except Exception as e:\n",
    "    print(f\"Error: {e}\")\n",
    "    print(\"Can't save timetable\")"
   ]
  },
  {
   "cell_type": "markdown",
   "id": "7a1902b2",
   "metadata": {},
   "source": [
    "# class Schedule"
   ]
  },
  {
   "cell_type": "code",
   "execution_count": 344,
   "id": "572e4907",
   "metadata": {},
   "outputs": [],
   "source": [
    "# from tabulate import tabulate\n",
    "\n",
    "class Schedule:\n",
    "    \n",
    "    def __init__(self):\n",
    "        \n",
    "        self._df = pd.read_csv('data/schedule.csv', index_col = 'time', dtype=object)\n",
    "        self._df.fillna(0, inplace=True)\n",
    "        self._df = self._df.astype(int)\n",
    "    \n",
    "    def print(self):\n",
    "        \n",
    "        print(tabulate(self._df.replace(0,''), headers='keys', tablefmt='grid'))\n",
    "    \n",
    "    def get_schedule(self, numbers_str):\n",
    "        ''' \n",
    "        Convert string of numbers to the list of hours from schedule.\n",
    "        e.g. numbers_str = '3, 5'\n",
    "        Returns tuple: (success->bool, schedule->str)\n",
    "        '''\n",
    "        df = self._df\n",
    "        schedule = []\n",
    "        success  = True\n",
    "        numbers_str = numbers_str.strip(',')\n",
    "        try:\n",
    "            numbers = [int(n) for n in numbers_str.split(',')]\n",
    "            for n in numbers:\n",
    "                \n",
    "                if df.eq(n).any().any():\n",
    "                    # number exists in df\n",
    "                    # r,c are chosen number's row and column in df\n",
    "                    r, c = df.index[df.eq(n).any(1)].values[0], df.columns[df.eq(n).any(0)].values[0]\n",
    "                    schedule.append((r, c))\n",
    "                else:\n",
    "                    print(f'Номера {n} нет в таблице.')\n",
    "                    success = False\n",
    "                    \n",
    "        except Exception as e:\n",
    "                \n",
    "            if isinstance(e, ValueError):\n",
    "                print('Неправильный формат.')\n",
    "                \n",
    "            success = False\n",
    "\n",
    "        return success, str(schedule)"
   ]
  },
  {
   "cell_type": "markdown",
   "id": "ec61d58c",
   "metadata": {},
   "source": [
    "# class UserProfile"
   ]
  },
  {
   "cell_type": "code",
   "execution_count": 350,
   "id": "d412f07b",
   "metadata": {},
   "outputs": [],
   "source": [
    "class UserProfile():\n",
    "    \n",
    "    \n",
    "    def __init__(self, id):\n",
    "        '''user_profile = {\"id\":0,      \"first_name\":\"\", \"last_name\":\"\", \n",
    "                           \"age\":0,     \"grade\":0,\n",
    "                           \"email\":\"\",  \"phone\":\"\",      \"schedule\":\" e.g.[('09:00','пн')]\"}\n",
    "        '''\n",
    "        \n",
    "        self._filename = 'data/user_profiles.csv'\n",
    "        self._df_user_profiles = pd.read_csv(user_profiles_path, index_col='id')\n",
    "        self._user_profile = {\"id\":id}\n",
    "\n",
    "        if id in self._df_user_profiles.index.values:\n",
    "            # update using data from database\n",
    "            self._user_profile.update(self._df_user_profiles.loc[id].to_dict())\n",
    "        else:\n",
    "            # create empty profile\n",
    "            self._user_profile.update({col:\"\" for col in self._df_user_profiles.columns})\n",
    "            self._user_profile['age'] = self._user_profile['grade'] = 0 # use default values\n",
    "            self._user_profile['schedule'] = '[]' # use default values\n",
    "    \n",
    "    def update(self, first_name=\"\", last_name=\"\", age=0, grade=0,\n",
    "                     email=\"\", phone=\"\", schedule='[]', _att_name='', _att_value=''):\n",
    "        \n",
    "        user_profile = self._user_profile\n",
    "        \n",
    "        if first_name != \"\":\n",
    "            user_profile[\"first_name\"] = first_name\n",
    "\n",
    "        if last_name != \"\":\n",
    "            user_profile[\"last_name\"] = last_name\n",
    "\n",
    "        if age != 0:\n",
    "            user_profile[\"age\"] = age\n",
    "\n",
    "        if grade != 0:\n",
    "            user_profile[\"grade\"] = grade\n",
    "\n",
    "        if email != \"\":\n",
    "            user_profile[\"email\"] = email\n",
    "\n",
    "        if phone != \"\":\n",
    "            user_profile[\"phone\"] = phone\n",
    "\n",
    "        if schedule != '[]':\n",
    "            user_profile[\"schedule\"] = schedule\n",
    "            \n",
    "        if _att_name != \"\":\n",
    "            user_profile[_att_name] = _att_value\n",
    "            \n",
    "            \n",
    "    def _get_attribute_value(self, attribute_name):\n",
    "        \n",
    "        return self._user_profile[attribute_name]\n",
    "        \n",
    "    def get_id(self):\n",
    "        \n",
    "        return self._user_profile['id']\n",
    "\n",
    "    def get_first_name(self):\n",
    "        \n",
    "        return self._user_profile['first_name']\n",
    "\n",
    "    def get_last_name(self):\n",
    "        \n",
    "        return self._user_profile['last_name']\n",
    "\n",
    "    def get_age(self):\n",
    "        \n",
    "        return self._user_profile['age']\n",
    "\n",
    "    def get_grade(self):\n",
    "        \n",
    "        return self._user_profile['grade']\n",
    "\n",
    "    def get_email(self):\n",
    "        \n",
    "        return self._user_profile['email']\n",
    "\n",
    "    def get_phone(self):\n",
    "        \n",
    "        return self._user_profile['phone']\n",
    "\n",
    "    def get_schedule(self):\n",
    "        \n",
    "        return self._user_profile['schedule']\n",
    "    \n",
    "    def get_attribute_names(self, exclude_schedule=False):\n",
    "        \n",
    "        types = {'first_name':str, 'last_name':str, \n",
    "                 'age':int, 'grade':int, \n",
    "                 'email':str, 'phone':str, 'schedule':str}\n",
    "\n",
    "        excluded = ['id']\n",
    "        if exclude_schedule:\n",
    "            excluded.append('schedule')\n",
    "            \n",
    "        return [(key, types[key]) for key in user_profile._user_profile.keys() if key not in excluded]\n",
    "    \n",
    "    def get_attribute_name_hf(self, att_name):\n",
    "        '''get human-friendly attribute name'''\n",
    "        \n",
    "        names = {'first_name':'имя', 'last_name':'фамилия', \n",
    "                 'age':'возраст', 'grade':'класс', \n",
    "                 'email':'email', 'phone':'телефонный номер', 'schedule':'график'}\n",
    "        \n",
    "        return names[att_name]\n",
    "    \n",
    "    def save(self):\n",
    "        \n",
    "        '''save user_profiles to disk'''\n",
    "        user_profiles = self._df_user_profiles\n",
    "        user_profile  = self._user_profile\n",
    "        \n",
    "        # update user's profile in database table\n",
    "        user_profiles.loc[user_profile['id']] = pd.Series({k:v for k,v in user_profile.items() if k!='id'})\n",
    "        user_profiles.to_csv(self._filename)\n"
   ]
  },
  {
   "cell_type": "code",
   "execution_count": 249,
   "id": "7ad56999",
   "metadata": {},
   "outputs": [],
   "source": [
    "user_profile = UserProfile(id=0)\n",
    "user_profile.update(first_name='Гарри', last_name = 'Поттер', age=11, grade=5, email='harry.potter@hogwarts.edu')\n",
    "user_profile.save()\n",
    "user_profile = UserProfile(id=1)\n",
    "user_profile.update(first_name='Рон', last_name = 'Уизли', age=11, grade=5, email='ron.weasley@hogwarts.edu')\n",
    "user_profile.save()\n",
    "user_profile = UserProfile(id=2)\n",
    "user_profile.update(first_name='Гермиона', last_name = 'Грейнджер', age=11, grade=5, email='hermione.gr@hogwarts.edu')\n",
    "user_profile.save()"
   ]
  },
  {
   "cell_type": "code",
   "execution_count": 241,
   "id": "0532ac82",
   "metadata": {},
   "outputs": [
    {
     "data": {
      "text/plain": [
       "['first_name', 'last_name', 'age', 'grade', 'email', 'phone', 'schedule']"
      ]
     },
     "execution_count": 241,
     "metadata": {},
     "output_type": "execute_result"
    }
   ],
   "source": [
    "user_profile.get_attribute_names()"
   ]
  },
  {
   "cell_type": "code",
   "execution_count": 301,
   "id": "07f6545e",
   "metadata": {},
   "outputs": [],
   "source": [
    "first_name=\"\"\n",
    "last_name=\"\" \n",
    "age=0\n",
    "grade=0\n",
    "email=\"\"\n",
    "phone=\"\"\n",
    "schedule=[]\n",
    "\n",
    "if schedule:\n",
    "    print(f\"value: {schedule}\")"
   ]
  },
  {
   "cell_type": "markdown",
   "id": "ae87b8ba",
   "metadata": {},
   "source": [
    "# Main"
   ]
  },
  {
   "cell_type": "code",
   "execution_count": 354,
   "id": "bf5e4e38",
   "metadata": {},
   "outputs": [
    {
     "name": "stdout",
     "output_type": "stream",
     "text": [
      "+--------+------+------+------+------+------+------+------+\n",
      "| time   | пн   | вт   | ср   | чт   | пт   | сб   | вс   |\n",
      "+========+======+======+======+======+======+======+======+\n",
      "| 09:00  | 1    | 2    |      |      |      |      |      |\n",
      "+--------+------+------+------+------+------+------+------+\n",
      "| 10:00  |      |      |      |      | 3    |      |      |\n",
      "+--------+------+------+------+------+------+------+------+\n",
      "| 11:00  | 4    |      |      |      |      |      |      |\n",
      "+--------+------+------+------+------+------+------+------+\n",
      "| 12:00  | 5    |      |      |      |      | 6    |      |\n",
      "+--------+------+------+------+------+------+------+------+\n",
      "| 13:00  |      | 7    |      |      |      |      |      |\n",
      "+--------+------+------+------+------+------+------+------+\n",
      "| 14:00  |      |      |      |      |      |      |      |\n",
      "+--------+------+------+------+------+------+------+------+\n",
      "| 15:00  |      |      | 8    |      |      |      |      |\n",
      "+--------+------+------+------+------+------+------+------+\n",
      "| 16:00  |      |      |      |      |      |      |      |\n",
      "+--------+------+------+------+------+------+------+------+\n",
      "| 17:00  |      |      |      |      | 9    |      |      |\n",
      "+--------+------+------+------+------+------+------+------+\n",
      "| 18:00  |      |      |      |      |      |      |      |\n",
      "+--------+------+------+------+------+------+------+------+\n",
      "Выберите часы в которые вы хотите заниматься(укажите номера через запятую, для выхода наберите 0): 1,2\n",
      "Выбрано время : ('09:00', 'пн'), ('09:00', 'вт')\n",
      "Пожалуйста введите дополнительную информацию(для отказа напишите 0):\n",
      "имя: Rus\n",
      "фамилия: Mus\n",
      "возраст: e\n",
      "Пожалуйста введите число.\n",
      "возраст: r\n",
      "Пожалуйста введите число.\n",
      "возраст: 0\n",
      "класс: t\n",
      "Пожалуйста введите число.\n",
      "класс: e\n",
      "Пожалуйста введите число.\n",
      "класс: 1e\n",
      "Пожалуйста введите число.\n",
      "класс: 3\n",
      "email: \n",
      "телефонный номер: \n"
     ]
    }
   ],
   "source": [
    "schedule = Schedule()\n",
    "schedule.print()\n",
    "\n",
    "user_id = 4 # e.g. telegram user id\n",
    "user_profile = UserProfile(id=user_id)\n",
    "\n",
    "success = False\n",
    "while True:\n",
    "    \n",
    "    numbers = input(\"Выберите часы в которые вы хотите заниматься(укажите номера через запятую, для выхода наберите 0): \")\n",
    "    \n",
    "    if numbers.strip() == '0':\n",
    "        break\n",
    "        \n",
    "    success, schedule_str = schedule.get_schedule(numbers)\n",
    "    if success:\n",
    "        print(f\"Выбрано время : {schedule_str.strip('[').strip(']')}\")\n",
    "        user_profile.update(schedule=schedule_str)\n",
    "        break\n",
    "    else:\n",
    "        print('Попробуйте еще раз.')\n",
    "        \n",
    "if success:\n",
    "    # ask user for additional info: first name, last name etc.\n",
    "    \n",
    "    printed_header = False\n",
    "    for att_name, att_type in user_profile.get_attribute_names(exclude_schedule=True):\n",
    "        val = user_profile._get_attribute_value(att_name)\n",
    "        \n",
    "        # if attribute value is not filled in\n",
    "        if not val:\n",
    "\n",
    "            if not printed_header:\n",
    "                printed_header = True\n",
    "                print('Пожалуйста введите дополнительную информацию(для отказа напишите 0):')\n",
    "            \n",
    "            att_name_hf = user_profile.get_attribute_name_hf(att_name)\n",
    "            \n",
    "            if att_type == int:\n",
    "                while True:\n",
    "                    val = input(f\"{att_name_hf}: \")\n",
    "\n",
    "                    if val.strip() == '0':\n",
    "                        break\n",
    "                        \n",
    "                    try:\n",
    "                        int(val)\n",
    "                        break\n",
    "                    except:\n",
    "                        print('Пожалуйста введите число.')\n",
    "                        \n",
    "            else:\n",
    "                val = input(f\"{att_name_hf}: \")\n",
    "\n",
    "            if val.strip() == '0':\n",
    "                continue\n",
    "\n",
    "            user_profile.update(_att_name=att_name, _att_value=val)\n",
    "            \n",
    "user_profile.save()"
   ]
  },
  {
   "cell_type": "code",
   "execution_count": 355,
   "id": "9fdfe13a",
   "metadata": {},
   "outputs": [
    {
     "data": {
      "text/plain": [
       "{'id': 4,\n",
       " 'first_name': 'Rus',\n",
       " 'last_name': 'Mus',\n",
       " 'age': 0,\n",
       " 'grade': '3',\n",
       " 'email': '',\n",
       " 'phone': '',\n",
       " 'schedule': \"[('09:00', 'пн'), ('09:00', 'вт')]\"}"
      ]
     },
     "execution_count": 355,
     "metadata": {},
     "output_type": "execute_result"
    }
   ],
   "source": [
    "user_profile._user_profile"
   ]
  },
  {
   "cell_type": "code",
   "execution_count": 357,
   "id": "a714a319",
   "metadata": {},
   "outputs": [
    {
     "name": "stdout",
     "output_type": "stream",
     "text": [
      "<class 'pandas.core.frame.DataFrame'>\n",
      "Int64Index: 4 entries, 0 to 4\n",
      "Data columns (total 7 columns):\n",
      " #   Column      Non-Null Count  Dtype \n",
      "---  ------      --------------  ----- \n",
      " 0   first_name  4 non-null      object\n",
      " 1   last_name   4 non-null      object\n",
      " 2   age         4 non-null      int64 \n",
      " 3   grade       4 non-null      object\n",
      " 4   email       4 non-null      object\n",
      " 5   phone       4 non-null      object\n",
      " 6   schedule    4 non-null      object\n",
      "dtypes: int64(1), object(6)\n",
      "memory usage: 256.0+ bytes\n"
     ]
    }
   ],
   "source": [
    "user_profile._df_user_profiles.info()"
   ]
  },
  {
   "cell_type": "code",
   "execution_count": null,
   "id": "66b6460f",
   "metadata": {},
   "outputs": [],
   "source": []
  }
 ],
 "metadata": {
  "kernelspec": {
   "display_name": "Python 3 (ipykernel)",
   "language": "python",
   "name": "python3"
  },
  "language_info": {
   "codemirror_mode": {
    "name": "ipython",
    "version": 3
   },
   "file_extension": ".py",
   "mimetype": "text/x-python",
   "name": "python",
   "nbconvert_exporter": "python",
   "pygments_lexer": "ipython3",
   "version": "3.9.1"
  }
 },
 "nbformat": 4,
 "nbformat_minor": 5
}
